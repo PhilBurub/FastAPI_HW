{
 "cells": [
  {
   "cell_type": "code",
   "execution_count": 26,
   "metadata": {},
   "outputs": [],
   "source": [
    "import requests\n",
    "# url = 'http://127.0.0.1:8501/'\n",
    "url = 'https://fastapi-python-alls.onrender.com/'"
   ]
  },
  {
   "cell_type": "markdown",
   "metadata": {},
   "source": [
    "### 0. Проверяем, что все ок"
   ]
  },
  {
   "cell_type": "code",
   "execution_count": 27,
   "metadata": {},
   "outputs": [
    {
     "data": {
      "text/plain": [
       "{'status': 'OK'}"
      ]
     },
     "execution_count": 27,
     "metadata": {},
     "output_type": "execute_result"
    }
   ],
   "source": [
    "requests.get(url).json()"
   ]
  },
  {
   "cell_type": "markdown",
   "metadata": {},
   "source": [
    "### 1. Создание ссылки"
   ]
  },
  {
   "cell_type": "code",
   "execution_count": 28,
   "metadata": {},
   "outputs": [
    {
     "data": {
      "text/plain": [
       "{'message': 'SUCCESS',\n",
       " 'content': {'url': 'https://www.hse.ru/',\n",
       "  'alias': '5iJNJs',\n",
       "  'created': '2025-03-19T22:00:41.697101',\n",
       "  'last_accessed': None,\n",
       "  'times_accessed': 0,\n",
       "  'expires_at': None}}"
      ]
     },
     "execution_count": 28,
     "metadata": {},
     "output_type": "execute_result"
    }
   ],
   "source": [
    "response = requests.post(\n",
    "    url + 'links/shorten',\n",
    "    json={\n",
    "        'url': 'https://www.hse.ru/'\n",
    "    }\n",
    ").json()\n",
    "response"
   ]
  },
  {
   "cell_type": "code",
   "execution_count": 29,
   "metadata": {},
   "outputs": [],
   "source": [
    "alias = response['content']['alias']"
   ]
  },
  {
   "cell_type": "markdown",
   "metadata": {},
   "source": [
    "### 2. Переход по ссылке"
   ]
  },
  {
   "cell_type": "code",
   "execution_count": 30,
   "metadata": {},
   "outputs": [
    {
     "data": {
      "text/plain": [
       "b'<!DOCTYPE html><html><head><title>HSE University</title><meta charset=\"utf-8\"><meta name=\"viewport\" content=\"width=device-width, initial-scale=1\"><meta http-equiv=\"X-UA-Compatible\" content=\"IE=Edge\"><meta name=\"yandex-verification\" content=\"25e3420f8bfc397e\"><meta name=\"theme-color\" content=\"#1658DA\"><meta name=\"sputnik-verification\" content=\"SB2V6wrEtxYZNqgs\"><meta name=\"twitter:card\" content=\"summary\"><meta property=\"og:title\" content=\"HSE University\"><meta name=\"mrc__share_title\" content=\"HSE'"
      ]
     },
     "execution_count": 30,
     "metadata": {},
     "output_type": "execute_result"
    }
   ],
   "source": [
    "requests.get(\n",
    "    url + '/' + alias\n",
    ").content[:500]"
   ]
  },
  {
   "cell_type": "markdown",
   "metadata": {},
   "source": [
    "### 3. Удаление ссылки"
   ]
  },
  {
   "cell_type": "code",
   "execution_count": 31,
   "metadata": {},
   "outputs": [
    {
     "data": {
      "text/plain": [
       "{'detail': [{'type': 'missing',\n",
       "   'loc': ['header', 'login'],\n",
       "   'msg': 'Field required',\n",
       "   'input': {'host': 'fastapi-python-alls.onrender.com',\n",
       "    'user-agent': 'python-requests/2.32.3',\n",
       "    'accept': '*/*',\n",
       "    'accept-encoding': 'gzip, br',\n",
       "    'cdn-loop': 'cloudflare; loops=1',\n",
       "    'cf-connecting-ip': '90.154.70.130',\n",
       "    'cf-ipcountry': 'RU',\n",
       "    'cf-ray': '92303e800f0ce4a6-DME',\n",
       "    'cf-visitor': '{\"scheme\":\"https\"}',\n",
       "    'render-proxy-ttl': '4',\n",
       "    'rndr-id': '9bcc6b3a-37cd-4f0f',\n",
       "    'true-client-ip': '90.154.70.130',\n",
       "    'x-forwarded-for': '90.154.70.130, 172.69.50.171, 10.217.126.13',\n",
       "    'x-forwarded-proto': 'https',\n",
       "    'x-request-start': '1742421642399682'}}]}"
      ]
     },
     "execution_count": 31,
     "metadata": {},
     "output_type": "execute_result"
    }
   ],
   "source": [
    "requests.delete(\n",
    "    url + 'links/' + alias\n",
    ").json()"
   ]
  },
  {
   "cell_type": "code",
   "execution_count": 32,
   "metadata": {},
   "outputs": [
    {
     "data": {
      "text/plain": [
       "{'status': 'ERROR: you are not registered'}"
      ]
     },
     "execution_count": 32,
     "metadata": {},
     "output_type": "execute_result"
    }
   ],
   "source": [
    "requests.delete(\n",
    "    url + 'links/' + alias,\n",
    "    headers={\n",
    "        'login': 'philing'\n",
    "    }\n",
    ").json()"
   ]
  },
  {
   "cell_type": "code",
   "execution_count": 33,
   "metadata": {},
   "outputs": [
    {
     "data": {
      "text/plain": [
       "{'status': 'ERROR: you are not registered'}"
      ]
     },
     "execution_count": 33,
     "metadata": {},
     "output_type": "execute_result"
    }
   ],
   "source": [
    "requests.delete(\n",
    "    url + 'links/' + alias,\n",
    "    headers={\n",
    "        'login': 'philing',\n",
    "        'token': '123'\n",
    "    }\n",
    ").json()"
   ]
  },
  {
   "cell_type": "markdown",
   "metadata": {},
   "source": [
    "#### 3.1. Регистрация"
   ]
  },
  {
   "cell_type": "code",
   "execution_count": 34,
   "metadata": {},
   "outputs": [
    {
     "data": {
      "text/plain": [
       "{'message': 'SUCCESS', 'content': {'login': 'philing', 'token': '9MeYIJaAT1'}}"
      ]
     },
     "execution_count": 34,
     "metadata": {},
     "output_type": "execute_result"
    }
   ],
   "source": [
    "response = requests.get(\n",
    "    url + 'links/register', \n",
    "    headers={\n",
    "        'login': 'philing'\n",
    "    }\n",
    ").json()\n",
    "response"
   ]
  },
  {
   "cell_type": "code",
   "execution_count": 35,
   "metadata": {},
   "outputs": [],
   "source": [
    "headers = response['content']"
   ]
  },
  {
   "cell_type": "markdown",
   "metadata": {},
   "source": [
    "#### 3.2. Удаление"
   ]
  },
  {
   "cell_type": "code",
   "execution_count": 36,
   "metadata": {},
   "outputs": [
    {
     "data": {
      "text/plain": [
       "{'status': 'SUCCESS'}"
      ]
     },
     "execution_count": 36,
     "metadata": {},
     "output_type": "execute_result"
    }
   ],
   "source": [
    "requests.delete(\n",
    "    url + 'links/' + alias,\n",
    "    headers=headers\n",
    ").json()"
   ]
  },
  {
   "cell_type": "code",
   "execution_count": 37,
   "metadata": {},
   "outputs": [
    {
     "data": {
      "text/plain": [
       "b'{\"status\":\"ERROR: alias 5iJNJs not found\"}'"
      ]
     },
     "execution_count": 37,
     "metadata": {},
     "output_type": "execute_result"
    }
   ],
   "source": [
    "requests.get(\n",
    "    url + '/' + alias\n",
    ").content"
   ]
  },
  {
   "cell_type": "markdown",
   "metadata": {},
   "source": [
    "### 4. Обновление ссылки"
   ]
  },
  {
   "cell_type": "markdown",
   "metadata": {},
   "source": [
    "#### 4.1. Заново создадим удаленную ссылку"
   ]
  },
  {
   "cell_type": "code",
   "execution_count": 38,
   "metadata": {},
   "outputs": [
    {
     "data": {
      "text/plain": [
       "{'message': 'SUCCESS',\n",
       " 'content': {'url': 'https://www.hse.ru/',\n",
       "  'alias': 'mY7jfl',\n",
       "  'created': '2025-03-19T22:00:44.297541',\n",
       "  'last_accessed': None,\n",
       "  'times_accessed': 0,\n",
       "  'expires_at': None}}"
      ]
     },
     "execution_count": 38,
     "metadata": {},
     "output_type": "execute_result"
    }
   ],
   "source": [
    "response = requests.post(\n",
    "    url + 'links/shorten',\n",
    "    json={\n",
    "        'url': 'https://www.hse.ru/'\n",
    "    }\n",
    ").json()\n",
    "response"
   ]
  },
  {
   "cell_type": "code",
   "execution_count": 39,
   "metadata": {},
   "outputs": [],
   "source": [
    "alias = response['content']['alias']"
   ]
  },
  {
   "cell_type": "markdown",
   "metadata": {},
   "source": [
    "#### 4.2. Обновим"
   ]
  },
  {
   "cell_type": "code",
   "execution_count": 40,
   "metadata": {},
   "outputs": [
    {
     "data": {
      "text/plain": [
       "{'message': 'SUCCESS',\n",
       " 'content': {'url': 'https://www.hse.ru/',\n",
       "  'alias': 'NiFbM5',\n",
       "  'created': '2025-03-19T22:00:44.297541',\n",
       "  'last_accessed': None,\n",
       "  'times_accessed': 0,\n",
       "  'expires_at': None}}"
      ]
     },
     "execution_count": 40,
     "metadata": {},
     "output_type": "execute_result"
    }
   ],
   "source": [
    "response = requests.post(\n",
    "    url + 'links/' + alias, \n",
    "    headers=headers\n",
    ").json()\n",
    "response"
   ]
  },
  {
   "cell_type": "code",
   "execution_count": 41,
   "metadata": {},
   "outputs": [],
   "source": [
    "alias = response['content']['alias']"
   ]
  },
  {
   "cell_type": "markdown",
   "metadata": {},
   "source": [
    "### 5. Получение статистики"
   ]
  },
  {
   "cell_type": "code",
   "execution_count": 42,
   "metadata": {},
   "outputs": [
    {
     "data": {
      "text/plain": [
       "{'message': 'SUCCESS',\n",
       " 'content': {'url': 'https://www.hse.ru/',\n",
       "  'alias': 'NiFbM5',\n",
       "  'created': '2025-03-19T22:00:44.297541',\n",
       "  'last_accessed': None,\n",
       "  'times_accessed': 0,\n",
       "  'expires_at': None}}"
      ]
     },
     "execution_count": 42,
     "metadata": {},
     "output_type": "execute_result"
    }
   ],
   "source": [
    "requests.get(\n",
    "    url + f'links/{alias}/stats', \n",
    ").json()"
   ]
  },
  {
   "cell_type": "code",
   "execution_count": 43,
   "metadata": {},
   "outputs": [
    {
     "data": {
      "text/plain": [
       "<Response [200]>"
      ]
     },
     "execution_count": 43,
     "metadata": {},
     "output_type": "execute_result"
    }
   ],
   "source": [
    "requests.get(\n",
    "    url + '/' + alias\n",
    ")"
   ]
  },
  {
   "cell_type": "code",
   "execution_count": 44,
   "metadata": {},
   "outputs": [
    {
     "data": {
      "text/plain": [
       "{'message': 'SUCCESS',\n",
       " 'content': {'url': 'https://www.hse.ru/',\n",
       "  'alias': 'NiFbM5',\n",
       "  'created': '2025-03-19T22:00:44.297541',\n",
       "  'last_accessed': '2025-03-19T22:00:45.342097',\n",
       "  'times_accessed': 1,\n",
       "  'expires_at': None}}"
      ]
     },
     "execution_count": 44,
     "metadata": {},
     "output_type": "execute_result"
    }
   ],
   "source": [
    "requests.get(\n",
    "    url + f'links/{alias}/stats', \n",
    ").json()"
   ]
  },
  {
   "cell_type": "markdown",
   "metadata": {},
   "source": [
    "### 6. Создание кастомных ссылок"
   ]
  },
  {
   "cell_type": "code",
   "execution_count": 45,
   "metadata": {},
   "outputs": [
    {
     "data": {
      "text/plain": [
       "{'message': 'SUCCESS',\n",
       " 'content': {'url': 'https://ru.wikipedia.org/wiki/',\n",
       "  'alias': 'wiki',\n",
       "  'created': '2025-03-19T22:00:45.897917',\n",
       "  'last_accessed': None,\n",
       "  'times_accessed': 0,\n",
       "  'expires_at': None}}"
      ]
     },
     "execution_count": 45,
     "metadata": {},
     "output_type": "execute_result"
    }
   ],
   "source": [
    "response = requests.post(\n",
    "    url + 'links/shorten',\n",
    "    json={\n",
    "        'url': 'https://ru.wikipedia.org/wiki/',\n",
    "        'alias': 'wiki'\n",
    "    }\n",
    ").json()\n",
    "response"
   ]
  },
  {
   "cell_type": "markdown",
   "metadata": {},
   "source": [
    "### 7. Поиск ссылки по оригинальному URL"
   ]
  },
  {
   "cell_type": "code",
   "execution_count": 46,
   "metadata": {},
   "outputs": [
    {
     "data": {
      "text/plain": [
       "{'message': 'SUCCESS',\n",
       " 'content': {'url': 'https://ru.wikipedia.org/wiki/',\n",
       "  'alias': 'wiki',\n",
       "  'created': '2025-03-19T22:00:45.897917',\n",
       "  'last_accessed': None,\n",
       "  'times_accessed': 0,\n",
       "  'expires_at': None}}"
      ]
     },
     "execution_count": 46,
     "metadata": {},
     "output_type": "execute_result"
    }
   ],
   "source": [
    "url_info = 'https://ru.wikipedia.org/wiki/'\n",
    "requests.get(\n",
    "    url + f'links/search?original_url={url_info}'\n",
    ").json()"
   ]
  },
  {
   "cell_type": "code",
   "execution_count": null,
   "metadata": {},
   "outputs": [],
   "source": []
  }
 ],
 "metadata": {
  "kernelspec": {
   "display_name": ".venv",
   "language": "python",
   "name": "python3"
  },
  "language_info": {
   "codemirror_mode": {
    "name": "ipython",
    "version": 3
   },
   "file_extension": ".py",
   "mimetype": "text/x-python",
   "name": "python",
   "nbconvert_exporter": "python",
   "pygments_lexer": "ipython3",
   "version": "3.12.0"
  }
 },
 "nbformat": 4,
 "nbformat_minor": 2
}
