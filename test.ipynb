{
 "cells": [
  {
   "cell_type": "code",
   "execution_count": 1,
   "metadata": {},
   "outputs": [],
   "source": [
    "import requests\n",
    "url = 'http://127.0.0.1:8501/'"
   ]
  },
  {
   "cell_type": "markdown",
   "metadata": {},
   "source": [
    "### 0. Проверяем, что все ок"
   ]
  },
  {
   "cell_type": "code",
   "execution_count": 2,
   "metadata": {},
   "outputs": [
    {
     "data": {
      "text/plain": [
       "{'status': 'OK'}"
      ]
     },
     "execution_count": 2,
     "metadata": {},
     "output_type": "execute_result"
    }
   ],
   "source": [
    "requests.get(url).json()"
   ]
  },
  {
   "cell_type": "markdown",
   "metadata": {},
   "source": [
    "### 1. Создание ссылки"
   ]
  },
  {
   "cell_type": "code",
   "execution_count": 3,
   "metadata": {},
   "outputs": [
    {
     "data": {
      "text/plain": [
       "{'message': 'SUCCESS',\n",
       " 'content': {'url': 'https://www.hse.ru/',\n",
       "  'alias': 'PlsaHb',\n",
       "  'created': '2025-03-19T20:47:26.435360',\n",
       "  'last_accessed': None,\n",
       "  'times_accessed': 0,\n",
       "  'expires_at': None}}"
      ]
     },
     "execution_count": 3,
     "metadata": {},
     "output_type": "execute_result"
    }
   ],
   "source": [
    "response = requests.post(\n",
    "    url + 'links/shorten',\n",
    "    json={\n",
    "        'url': 'https://www.hse.ru/'\n",
    "    }\n",
    ").json()\n",
    "response"
   ]
  },
  {
   "cell_type": "code",
   "execution_count": 4,
   "metadata": {},
   "outputs": [],
   "source": [
    "alias = response['content']['alias']"
   ]
  },
  {
   "cell_type": "markdown",
   "metadata": {},
   "source": [
    "### 2. Переход по ссылке"
   ]
  },
  {
   "cell_type": "code",
   "execution_count": 5,
   "metadata": {},
   "outputs": [
    {
     "data": {
      "text/plain": [
       "b'<!DOCTYPE html><html><head><title>HSE University</title><meta charset=\"utf-8\"><meta name=\"viewport\" content=\"width=device-width, initial-scale=1\"><meta http-equiv=\"X-UA-Compatible\" content=\"IE=Edge\"><meta name=\"yandex-verification\" content=\"25e3420f8bfc397e\"><meta name=\"theme-color\" content=\"#1658DA\"><meta name=\"sputnik-verification\" content=\"SB2V6wrEtxYZNqgs\"><meta name=\"twitter:card\" content=\"summary\"><meta property=\"og:title\" content=\"HSE University\"><meta name=\"mrc__share_title\" content=\"HSE'"
      ]
     },
     "execution_count": 5,
     "metadata": {},
     "output_type": "execute_result"
    }
   ],
   "source": [
    "requests.get(\n",
    "    url + '/' + alias\n",
    ").content[:500]"
   ]
  },
  {
   "cell_type": "markdown",
   "metadata": {},
   "source": [
    "### 3. Удаление ссылки"
   ]
  },
  {
   "cell_type": "code",
   "execution_count": 6,
   "metadata": {},
   "outputs": [
    {
     "data": {
      "text/plain": [
       "{'detail': [{'type': 'missing',\n",
       "   'loc': ['header', 'login'],\n",
       "   'msg': 'Field required',\n",
       "   'input': {'host': '127.0.0.1:8501',\n",
       "    'user-agent': 'python-requests/2.32.3',\n",
       "    'accept-encoding': 'gzip, deflate',\n",
       "    'accept': '*/*',\n",
       "    'connection': 'keep-alive',\n",
       "    'content-length': '0'}}]}"
      ]
     },
     "execution_count": 6,
     "metadata": {},
     "output_type": "execute_result"
    }
   ],
   "source": [
    "requests.delete(\n",
    "    url + 'links/' + alias\n",
    ").json()"
   ]
  },
  {
   "cell_type": "code",
   "execution_count": 7,
   "metadata": {},
   "outputs": [
    {
     "data": {
      "text/plain": [
       "{'status': 'ERROR: you are not registered'}"
      ]
     },
     "execution_count": 7,
     "metadata": {},
     "output_type": "execute_result"
    }
   ],
   "source": [
    "requests.delete(\n",
    "    url + 'links/' + alias,\n",
    "    headers={\n",
    "        'login': 'philing'\n",
    "    }\n",
    ").json()"
   ]
  },
  {
   "cell_type": "code",
   "execution_count": 8,
   "metadata": {},
   "outputs": [
    {
     "data": {
      "text/plain": [
       "{'status': 'ERROR: you are not registered'}"
      ]
     },
     "execution_count": 8,
     "metadata": {},
     "output_type": "execute_result"
    }
   ],
   "source": [
    "requests.delete(\n",
    "    url + 'links/' + alias,\n",
    "    headers={\n",
    "        'login': 'philing',\n",
    "        'token': '123'\n",
    "    }\n",
    ").json()"
   ]
  },
  {
   "cell_type": "markdown",
   "metadata": {},
   "source": [
    "#### 3.1. Регистрация"
   ]
  },
  {
   "cell_type": "code",
   "execution_count": 9,
   "metadata": {},
   "outputs": [
    {
     "data": {
      "text/plain": [
       "{'message': 'SUCCESS', 'content': {'login': 'philing', 'token': 'aXmjzX1BN3'}}"
      ]
     },
     "execution_count": 9,
     "metadata": {},
     "output_type": "execute_result"
    }
   ],
   "source": [
    "response = requests.get(\n",
    "    url + 'links/register', \n",
    "    headers={\n",
    "        'login': 'philing'\n",
    "    }\n",
    ").json()\n",
    "response"
   ]
  },
  {
   "cell_type": "code",
   "execution_count": 10,
   "metadata": {},
   "outputs": [],
   "source": [
    "headers = response['content']"
   ]
  },
  {
   "cell_type": "markdown",
   "metadata": {},
   "source": [
    "#### 3.2. Удаление"
   ]
  },
  {
   "cell_type": "code",
   "execution_count": 11,
   "metadata": {},
   "outputs": [
    {
     "data": {
      "text/plain": [
       "{'status': 'SUCCESS'}"
      ]
     },
     "execution_count": 11,
     "metadata": {},
     "output_type": "execute_result"
    }
   ],
   "source": [
    "requests.delete(\n",
    "    url + 'links/' + alias,\n",
    "    headers=headers\n",
    ").json()"
   ]
  },
  {
   "cell_type": "code",
   "execution_count": 12,
   "metadata": {},
   "outputs": [
    {
     "data": {
      "text/plain": [
       "b'{\"status\":\"ERROR: alias PlsaHb not found\"}'"
      ]
     },
     "execution_count": 12,
     "metadata": {},
     "output_type": "execute_result"
    }
   ],
   "source": [
    "requests.get(\n",
    "    url + '/' + alias\n",
    ").content"
   ]
  },
  {
   "cell_type": "markdown",
   "metadata": {},
   "source": [
    "### 4. Обновление ссылки"
   ]
  },
  {
   "cell_type": "markdown",
   "metadata": {},
   "source": [
    "#### 4.1. Заново создадим удаленную ссылку"
   ]
  },
  {
   "cell_type": "code",
   "execution_count": 13,
   "metadata": {},
   "outputs": [
    {
     "data": {
      "text/plain": [
       "{'message': 'SUCCESS',\n",
       " 'content': {'url': 'https://www.hse.ru/',\n",
       "  'alias': '8911Yy',\n",
       "  'created': '2025-03-19T20:47:27.554428',\n",
       "  'last_accessed': None,\n",
       "  'times_accessed': 0,\n",
       "  'expires_at': None}}"
      ]
     },
     "execution_count": 13,
     "metadata": {},
     "output_type": "execute_result"
    }
   ],
   "source": [
    "response = requests.post(\n",
    "    url + 'links/shorten',\n",
    "    json={\n",
    "        'url': 'https://www.hse.ru/'\n",
    "    }\n",
    ").json()\n",
    "response"
   ]
  },
  {
   "cell_type": "code",
   "execution_count": 14,
   "metadata": {},
   "outputs": [],
   "source": [
    "alias = response['content']['alias']"
   ]
  },
  {
   "cell_type": "markdown",
   "metadata": {},
   "source": [
    "#### 4.2. Обновим"
   ]
  },
  {
   "cell_type": "code",
   "execution_count": 15,
   "metadata": {},
   "outputs": [
    {
     "data": {
      "text/plain": [
       "{'message': 'SUCCESS',\n",
       " 'content': {'url': 'https://www.hse.ru/',\n",
       "  'alias': 'hfpIB5',\n",
       "  'created': '2025-03-19T20:47:27.554428',\n",
       "  'last_accessed': None,\n",
       "  'times_accessed': 0,\n",
       "  'expires_at': None}}"
      ]
     },
     "execution_count": 15,
     "metadata": {},
     "output_type": "execute_result"
    }
   ],
   "source": [
    "response = requests.post(\n",
    "    url + 'links/' + alias, \n",
    "    headers=headers\n",
    ").json()\n",
    "response"
   ]
  },
  {
   "cell_type": "code",
   "execution_count": 16,
   "metadata": {},
   "outputs": [],
   "source": [
    "alias = response['content']['alias']"
   ]
  },
  {
   "cell_type": "markdown",
   "metadata": {},
   "source": [
    "### 5. Получение статистики"
   ]
  },
  {
   "cell_type": "code",
   "execution_count": 17,
   "metadata": {},
   "outputs": [
    {
     "data": {
      "text/plain": [
       "{'message': 'SUCCESS',\n",
       " 'content': {'url': 'https://www.hse.ru/',\n",
       "  'alias': 'hfpIB5',\n",
       "  'created': '2025-03-19T20:47:27.554428',\n",
       "  'last_accessed': None,\n",
       "  'times_accessed': 0,\n",
       "  'expires_at': None}}"
      ]
     },
     "execution_count": 17,
     "metadata": {},
     "output_type": "execute_result"
    }
   ],
   "source": [
    "requests.get(\n",
    "    url + f'links/{alias}/stats', \n",
    ").json()"
   ]
  },
  {
   "cell_type": "code",
   "execution_count": 18,
   "metadata": {},
   "outputs": [
    {
     "data": {
      "text/plain": [
       "<Response [200]>"
      ]
     },
     "execution_count": 18,
     "metadata": {},
     "output_type": "execute_result"
    }
   ],
   "source": [
    "requests.get(\n",
    "    url + '/' + alias\n",
    ")"
   ]
  },
  {
   "cell_type": "code",
   "execution_count": 19,
   "metadata": {},
   "outputs": [
    {
     "data": {
      "text/plain": [
       "{'message': 'SUCCESS',\n",
       " 'content': {'url': 'https://www.hse.ru/',\n",
       "  'alias': 'hfpIB5',\n",
       "  'created': '2025-03-19T20:47:27.554428',\n",
       "  'last_accessed': '2025-03-19T20:47:28.008979',\n",
       "  'times_accessed': 1,\n",
       "  'expires_at': None}}"
      ]
     },
     "execution_count": 19,
     "metadata": {},
     "output_type": "execute_result"
    }
   ],
   "source": [
    "requests.get(\n",
    "    url + f'links/{alias}/stats', \n",
    ").json()"
   ]
  },
  {
   "cell_type": "markdown",
   "metadata": {},
   "source": [
    "### 6. Создание кастомных ссылок"
   ]
  },
  {
   "cell_type": "code",
   "execution_count": 20,
   "metadata": {},
   "outputs": [
    {
     "data": {
      "text/plain": [
       "{'message': 'SUCCESS',\n",
       " 'content': {'url': 'https://ru.wikipedia.org/wiki/',\n",
       "  'alias': 'wiki',\n",
       "  'created': '2025-03-19T20:47:28.289727',\n",
       "  'last_accessed': None,\n",
       "  'times_accessed': 0,\n",
       "  'expires_at': None}}"
      ]
     },
     "execution_count": 20,
     "metadata": {},
     "output_type": "execute_result"
    }
   ],
   "source": [
    "response = requests.post(\n",
    "    url + 'links/shorten',\n",
    "    json={\n",
    "        'url': 'https://ru.wikipedia.org/wiki/',\n",
    "        'alias': 'wiki'\n",
    "    }\n",
    ").json()\n",
    "response"
   ]
  },
  {
   "cell_type": "markdown",
   "metadata": {},
   "source": [
    "### 7. Поиск ссылки по оригинальному URL"
   ]
  },
  {
   "cell_type": "code",
   "execution_count": 21,
   "metadata": {},
   "outputs": [
    {
     "data": {
      "text/plain": [
       "{'message': 'SUCCESS',\n",
       " 'content': {'url': 'https://ru.wikipedia.org/wiki/',\n",
       "  'alias': 'wiki',\n",
       "  'created': '2025-03-19T20:47:28.289727',\n",
       "  'last_accessed': None,\n",
       "  'times_accessed': 0,\n",
       "  'expires_at': None}}"
      ]
     },
     "execution_count": 21,
     "metadata": {},
     "output_type": "execute_result"
    }
   ],
   "source": [
    "url_info = 'https://ru.wikipedia.org/wiki/'\n",
    "requests.get(\n",
    "    url + f'links/search?original_url={url_info}'\n",
    ").json()"
   ]
  },
  {
   "cell_type": "code",
   "execution_count": null,
   "metadata": {},
   "outputs": [],
   "source": []
  }
 ],
 "metadata": {
  "kernelspec": {
   "display_name": ".venv",
   "language": "python",
   "name": "python3"
  },
  "language_info": {
   "codemirror_mode": {
    "name": "ipython",
    "version": 3
   },
   "file_extension": ".py",
   "mimetype": "text/x-python",
   "name": "python",
   "nbconvert_exporter": "python",
   "pygments_lexer": "ipython3",
   "version": "3.12.0"
  }
 },
 "nbformat": 4,
 "nbformat_minor": 2
}
